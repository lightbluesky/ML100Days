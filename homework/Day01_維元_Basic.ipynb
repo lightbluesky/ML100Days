{
 "cells": [
  {
   "cell_type": "markdown",
   "metadata": {
    "id": "P6xk2_jLsvFF"
   },
   "source": [
    "# [作業目標]\n",
    "\n",
    "1. [簡答題] 請問下列兩種將 Array 轉換成 List 的方式有何不同？\n",
    "\n",
    "```\n",
    "print('list(a): ', list(a))\n",
    "print('tolist(): ', a.tolist())\n",
    "```\n",
    "\n",
    "2. 請試著在程式中印出以下三個 NdArray 的屬性？（屬性：ndim、shape、size、dtype、itemsize、length、type）\n",
    "\n",
    "```\n",
    "a = np.random.randint(10, size=6) \n",
    "b = np.random.randint(10, size=(3,4)) \n",
    "c = np.random.randint(10, size=(2,3,2)) \n",
    "```\n",
    "\n",
    "3. 如何利用 list(...) 實現 a.tolist() 的效果？試著用程式實作。\n"
   ]
  },
  {
   "cell_type": "markdown",
   "metadata": {
    "id": "uXGll28asvFS"
   },
   "source": [
    "# 作業 "
   ]
  },
  {
   "cell_type": "markdown",
   "metadata": {
    "id": "SYkvkp9YLwB7"
   },
   "source": [
    "### 1. [簡答題] 請問下列兩種將 Array 轉換成 List 的方式有何不同？\n",
    "\n",
    "```\n",
    "print('list(a): ', list(a))\n",
    "print('tolist(): ', a.tolist())\n",
    "```\n"
   ]
  },
  {
   "cell_type": "code",
   "execution_count": 5,
   "metadata": {
    "id": "5QrYoyNWsvFS",
    "outputId": "13f374d0-6f1b-47aa-bbac-c7d1a8c6995c"
   },
   "outputs": [
    {
     "name": "stdout",
     "output_type": "stream",
     "text": [
      "numpy array: [[ 0  1  2  3]\n",
      " [ 4  5  6  7]\n",
      " [ 8  9 10 11]]\n",
      "list(a): [array([0, 1, 2, 3]), array([4, 5, 6, 7]), array([ 8,  9, 10, 11])]\n",
      "toliat(): [[0, 1, 2, 3], [4, 5, 6, 7], [8, 9, 10, 11]]\n"
     ]
    }
   ],
   "source": [
    "import numpy as np\n",
    "\n",
    "a = np.arange(12).reshape(3,4)\n",
    "print('numpy array:',a)\n",
    "print('list(a):', list(a))     ##只轉第一層為list\n",
    "print('toliat():', a.tolist()) ##每層都轉為list"
   ]
  },
  {
   "cell_type": "markdown",
   "metadata": {
    "id": "AC9wUCyALwB9"
   },
   "source": [
    "### 2. 請試著在程式中印出以下三個 NdArray 的屬性並且解釋結果？（屬性：ndim、shape、size、dtype、itemsize、length、type）\n",
    "\n",
    "```\n",
    "a = np.random.randint(10, size=6) \n",
    "b = np.random.randint(10, size=(3,4)) \n",
    "c = np.random.randint(10, size=(2,3,2)) \n",
    "```"
   ]
  },
  {
   "cell_type": "code",
   "execution_count": null,
   "metadata": {
    "id": "4qARRsdtLwB-"
   },
   "outputs": [],
   "source": [
    "# 記得先 Import 正確的套件\n",
    "\n",
    "import numpy as np"
   ]
  },
  {
   "cell_type": "code",
   "execution_count": 23,
   "metadata": {
    "id": "e1gVI0tvsvFY",
    "outputId": "9be10770-9042-40c8-c4bc-217b84be9fc9"
   },
   "outputs": [
    {
     "name": "stdout",
     "output_type": "stream",
     "text": [
      "Data:  [9 4 8 8 6 0]\n",
      "維度:  1\n",
      "每個維度大小:  (6,)\n",
      "陣列中有幾個元素:  6\n",
      "陣列中的資料型態:  int64\n",
      "陣列中每個元素所佔空間:  8\n",
      "Length:  6\n",
      "陣列型態:  <class 'numpy.ndarray'>\n",
      "記憶體位置:  <memory at 0x7fc745d2b108>\n"
     ]
    }
   ],
   "source": [
    "\n",
    "a = np.random.randint(10, size=6) \n",
    "\n",
    "print('Data: ', a)\n",
    "print('維度: ', a.ndim)\n",
    "print('每個維度大小: ', a.shape)\n",
    "print('陣列中有幾個元素: ', a.size)\n",
    "print('陣列中的資料型態: ', a.dtype)\n",
    "print('陣列中每個元素所佔空間: ', a.itemsize)\n",
    "print('Length: ', len(a))\n",
    "print('陣列型態: ', type(a))\n",
    "print('記憶體位置: ', a.data)"
   ]
  },
  {
   "cell_type": "code",
   "execution_count": 24,
   "metadata": {
    "id": "iIJrIr7kLwB_",
    "outputId": "083c5519-394c-404e-9764-100c4ed5118a"
   },
   "outputs": [
    {
     "name": "stdout",
     "output_type": "stream",
     "text": [
      "Data:  [[6 7 3 8]\n",
      " [1 4 1 7]\n",
      " [3 7 2 9]]\n",
      "維度:  2\n",
      "每個維度大小:  (3, 4)\n",
      "陣列中有幾個元素:  12\n",
      "陣列中的資料型態:  int64\n",
      "陣列中每個元素所佔空間:  8\n",
      "Length:  3\n",
      "陣列型態:  <class 'numpy.ndarray'>\n",
      "記憶體位置:  <memory at 0x7fc7449a27e0>\n"
     ]
    }
   ],
   "source": [
    "b = np.random.randint(10, size=(3,4)) \n",
    "\n",
    "print('Data: ', b)\n",
    "print('維度: ', b.ndim)\n",
    "print('每個維度大小: ', b.shape)\n",
    "print('陣列中有幾個元素: ', b.size)\n",
    "print('陣列中的資料型態: ', b.dtype)\n",
    "print('陣列中每個元素所佔空間: ', b.itemsize)\n",
    "print('Length: ', len(b))\n",
    "print('陣列型態: ', type(b))\n",
    "print('記憶體位置: ', b.data)"
   ]
  },
  {
   "cell_type": "code",
   "execution_count": 25,
   "metadata": {
    "id": "98SRFh_FLwCC",
    "outputId": "dc65dfac-9ae6-49d2-f854-88eccebc2aac"
   },
   "outputs": [
    {
     "name": "stdout",
     "output_type": "stream",
     "text": [
      "Data:  [[[7 3]\n",
      "  [7 7]\n",
      "  [0 0]]\n",
      "\n",
      " [[4 4]\n",
      "  [6 5]\n",
      "  [2 3]]]\n",
      "維度:  3\n",
      "每個維度大小:  (2, 3, 2)\n",
      "陣列中有幾個元素:  12\n",
      "陣列中的資料型態:  int64\n",
      "陣列中每個元素所佔空間:  8\n",
      "Length:  2\n",
      "陣列型態:  <class 'numpy.ndarray'>\n",
      "記憶體位置:  <memory at 0x7fc745708408>\n"
     ]
    }
   ],
   "source": [
    "c = np.random.randint(10, size=(2,3,2)) \n",
    "\n",
    "print('Data: ', c)\n",
    "print('維度: ', c.ndim)\n",
    "print('每個維度大小: ', c.shape)\n",
    "print('陣列中有幾個元素: ', c.size)\n",
    "print('陣列中的資料型態: ', c.dtype)\n",
    "print('陣列中每個元素所佔空間: ', c.itemsize)\n",
    "print('Length: ',len(c) )\n",
    "print('陣列型態: ', type(c))\n",
    "print('記憶體位置: ', c.data)"
   ]
  },
  {
   "cell_type": "markdown",
   "metadata": {
    "id": "Uf6zC0QZLwCE"
   },
   "source": [
    "### 3. 如何利用 list(...) 實現 a.tolist() 的效果？試著用程式實作。\n"
   ]
  },
  {
   "cell_type": "code",
   "execution_count": 48,
   "metadata": {
    "id": "sCUzHu_BLwCF",
    "outputId": "ba9c8945-8efb-42b1-f978-2bbdda97accd"
   },
   "outputs": [
    {
     "name": "stdout",
     "output_type": "stream",
     "text": [
      "[2, 6, 1, 2, 5, 5]\n",
      "[2, 6, 1, 2, 5, 5]\n"
     ]
    }
   ],
   "source": [
    "a = np.random.randint(10, size=6) \n",
    "\n",
    "print(a.tolist())\n",
    "print(list(a))"
   ]
  },
  {
   "cell_type": "code",
   "execution_count": 49,
   "metadata": {
    "id": "IUkVtw8RLwCG",
    "outputId": "e39875a5-5ec7-431b-c12a-485acc167e44"
   },
   "outputs": [
    {
     "name": "stdout",
     "output_type": "stream",
     "text": [
      "[[2, 6, 4, 2], [7, 2, 3, 9], [5, 6, 3, 0]]\n",
      "[array([2, 6, 4, 2]), array([7, 2, 3, 9]), array([5, 6, 3, 0])]\n"
     ]
    }
   ],
   "source": [
    "b = np.random.randint(10, size=(3,4)) \n",
    "\n",
    "print(b.tolist())\n",
    "print(list(b))"
   ]
  },
  {
   "cell_type": "code",
   "execution_count": 50,
   "metadata": {
    "id": "NPhF8_CqLwCG",
    "outputId": "51fab908-5bfd-415f-9584-92bb376648c8"
   },
   "outputs": [
    {
     "name": "stdout",
     "output_type": "stream",
     "text": [
      "[[[0, 4], [4, 5], [4, 9]], [[4, 7], [3, 3], [0, 4]]]\n",
      "[array([[0, 4],\n",
      "       [4, 5],\n",
      "       [4, 9]]), array([[4, 7],\n",
      "       [3, 3],\n",
      "       [0, 4]])]\n"
     ]
    }
   ],
   "source": [
    "c = np.random.randint(10, size=(2,3,2)) \n",
    "\n",
    "print(c.tolist())\n",
    "print(list(c))"
   ]
  },
  {
   "cell_type": "code",
   "execution_count": 51,
   "metadata": {
    "id": "3Hc8vQYtLwCH",
    "outputId": "1290bc93-84ca-4da4-eb1a-315da37afaff"
   },
   "outputs": [
    {
     "name": "stdout",
     "output_type": "stream",
     "text": [
      "[[2, 6, 1, 2, 5, 5]]\n",
      "[[2, 6, 4, 2], [7, 2, 3, 9], [5, 6, 3, 0]]\n",
      "[[0, 4], [4, 5], [4, 9], [4, 7], [3, 3], [0, 4]]\n"
     ]
    }
   ],
   "source": [
    "def makelist(array,appendlist,index):\n",
    "    i = index - 1;\n",
    "    if(i == 0):\n",
    "        appendlist.append(list(array))\n",
    "        return appendlist;\n",
    "    else:\n",
    "        for x in list(array):\n",
    "            makelist(x,appendlist,i)\n",
    "\n",
    "def tolist(iterable):\n",
    "    l = list();\n",
    "    ndim = iterable.ndim\n",
    "    makelist(iterable,l,ndim)\n",
    "    return l;\n",
    "    \n",
    "\n",
    "\n",
    "print(tolist(a))\n",
    "print(tolist(b))\n",
    "print(tolist(c))"
   ]
  }
 ],
 "metadata": {
  "colab": {
   "name": "01Homework_維元.ipynb",
   "provenance": []
  },
  "kernelspec": {
   "display_name": "Python 3",
   "language": "python",
   "name": "python3"
  },
  "language_info": {
   "codemirror_mode": {
    "name": "ipython",
    "version": 3
   },
   "file_extension": ".py",
   "mimetype": "text/x-python",
   "name": "python",
   "nbconvert_exporter": "python",
   "pygments_lexer": "ipython3",
   "version": "3.7.3"
  }
 },
 "nbformat": 4,
 "nbformat_minor": 1
}
